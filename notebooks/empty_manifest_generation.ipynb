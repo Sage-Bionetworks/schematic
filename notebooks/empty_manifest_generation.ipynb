{
 "cells": [
  {
   "cell_type": "markdown",
   "id": "1ecf204d",
   "metadata": {},
   "source": [
    "## Generation of Empty Manifest for _Patient_ Data Type"
   ]
  },
  {
   "cell_type": "markdown",
   "id": "ba149a3e",
   "metadata": {},
   "source": [
    "### Pre-requisites\n",
    "\n",
    "All the programs in _schematic_ require the right set of credentials files (`.synapseConfig`, `credentials.json`, `token.pickle`, `service_account_creds.json`) and configuration files (`config.yml`) to work. Follow all steps detailed in [Section 3.](https://sage-schematic.readthedocs.io/en/develop/README.html#package-installation-and-setup) of the _schematic_ [documentation](https://sage-schematic.readthedocs.io/en/develop/).\n",
    "\n",
    "By following the above steps you will have created a virtual environment (`.venv`). To ensure that the methods from the schematic library that are called in this notebook work, you need to add the `.venv` virtual environment to Jupyter.\n",
    "\n",
    "- Make sure the virtual environment is activated\n",
    "\n",
    "```\n",
    "$ source .venv/bin/activate\n",
    "```\n",
    "\n",
    "- Add the virtual environment to Jupyter\n",
    "\n",
    "```\n",
    "$ python -m ipykernel install --name=\".venv\"\n",
    "```"
   ]
  },
  {
   "cell_type": "markdown",
   "id": "c0395eb1",
   "metadata": {},
   "source": [
    "#### 1. Set `SCHEMATIC_CONFIG` environment variable to point to `config.yml`"
   ]
  },
  {
   "cell_type": "code",
   "execution_count": 1,
   "id": "4ce63a65",
   "metadata": {},
   "outputs": [
    {
     "name": "stdout",
     "output_type": "stream",
     "text": [
      "env: SCHEMATIC_CONFIG=/Users/spatil/Desktop/schematic/config.yml\n"
     ]
    }
   ],
   "source": [
    "%env SCHEMATIC_CONFIG=/Users/spatil/Desktop/schematic/config.yml"
   ]
  },
  {
   "cell_type": "code",
   "execution_count": 2,
   "id": "0025ebb1",
   "metadata": {},
   "outputs": [
    {
     "name": "stdout",
     "output_type": "stream",
     "text": [
      "/Users/spatil/Desktop/schematic/config.yml\n"
     ]
    }
   ],
   "source": [
    "import os\n",
    "\n",
    "# check if `SCHEMATIC_CONFIG` variable has been set to correct path\n",
    "print(os.environ['SCHEMATIC_CONFIG'])"
   ]
  },
  {
   "cell_type": "markdown",
   "id": "b68719ce",
   "metadata": {},
   "source": [
    "#### 2. Call `get_manifest()` method from `ManifestGenerator` class to create manifest"
   ]
  },
  {
   "cell_type": "code",
   "execution_count": 3,
   "id": "496a3283",
   "metadata": {},
   "outputs": [
    {
     "name": "stdout",
     "output_type": "stream",
     "text": [
      "Loading config YAML file specified in 'SCHEMATIC_CONFIG' environment variable: /Users/spatil/Desktop/schematic/config.yml\n",
      "https://docs.google.com/spreadsheets/d/1gM38rDoZ2OWoFIQqqVmgVAnKohLXqxW6XuiuBsRf4AE\n"
     ]
    }
   ],
   "source": [
    "# ManifestGenerator class contains get_manifest() method\n",
    "from schematic.manifest.generator import ManifestGenerator\n",
    "\n",
    "# initialize object of ManifestGenerator class\n",
    "manifest_generator = ManifestGenerator(\n",
    "    path_to_json_ld=\"../tests/data/HTAN.model.jsonld\",\n",
    "    title=\"Patient Manifest\",\n",
    "    root=\"Patient\",\n",
    "    oauth=True,\n",
    "    use_annotations=False\n",
    ")\n",
    "\n",
    "# do not provide any value to dataset_id parameter\n",
    "result = manifest_generator.get_manifest(sheet_url=True)\n",
    "\n",
    "# print returned url\n",
    "print(result)"
   ]
  }
 ],
 "metadata": {
  "kernelspec": {
   "display_name": ".venv",
   "language": "python",
   "name": ".venv"
  },
  "language_info": {
   "codemirror_mode": {
    "name": "ipython",
    "version": 3
   },
   "file_extension": ".py",
   "mimetype": "text/x-python",
   "name": "python",
   "nbconvert_exporter": "python",
   "pygments_lexer": "ipython3",
   "version": "3.8.2"
  }
 },
 "nbformat": 4,
 "nbformat_minor": 5
}
