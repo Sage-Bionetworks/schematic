{
 "cells": [
  {
   "cell_type": "markdown",
   "id": "d49e51da",
   "metadata": {},
   "source": [
    "#### 1. Set SCHEMATIC_CONFIG environment variable to point to config.yml"
   ]
  },
  {
   "cell_type": "code",
   "execution_count": 1,
   "id": "dfdbb640",
   "metadata": {},
   "outputs": [
    {
     "name": "stdout",
     "output_type": "stream",
     "text": [
      "env: SCHEMATIC_CONFIG=/Users/spatil/Desktop/schematic/config.yml\n"
     ]
    }
   ],
   "source": [
    "%env SCHEMATIC_CONFIG=/Users/spatil/Desktop/schematic/config.yml"
   ]
  },
  {
   "cell_type": "code",
   "execution_count": 2,
   "id": "cbcb48c0",
   "metadata": {},
   "outputs": [
    {
     "name": "stdout",
     "output_type": "stream",
     "text": [
      "/Users/spatil/Desktop/schematic/config.yml\n"
     ]
    }
   ],
   "source": [
    "import os\n",
    "\n",
    "# check if `SCHEMATIC_CONFIG` variable has been set to correct path\n",
    "print(os.environ['SCHEMATIC_CONFIG'])"
   ]
  },
  {
   "cell_type": "markdown",
   "id": "636c545a",
   "metadata": {},
   "source": [
    "#### 2. Call `submit_metadata_manifest()` method from `MetadataModel` class to validate manifest"
   ]
  },
  {
   "cell_type": "code",
   "execution_count": 3,
   "id": "6c607f91",
   "metadata": {},
   "outputs": [],
   "source": [
    "# MetadataModel class contains validateModelManifest() method\n",
    "from schematic.models.metadata import MetadataModel\n",
    "\n",
    "# initialize object of MetadataModel class\n",
    "metadata_model = MetadataModel(\n",
    "    inputMModelLocation=\"../tests/data/example.model.jsonld\", \n",
    "    inputMModelLocationType=\"local\"\n",
    ")"
   ]
  },
  {
   "cell_type": "markdown",
   "id": "1491347b",
   "metadata": {},
   "source": [
    "### Case 1"
   ]
  },
  {
   "cell_type": "code",
   "execution_count": 4,
   "id": "9c1204e5",
   "metadata": {},
   "outputs": [
    {
     "name": "stdout",
     "output_type": "stream",
     "text": [
      "Loading config YAML file specified in 'SCHEMATIC_CONFIG' environment variable: /Users/spatil/Desktop/schematic/config.yml\n"
     ]
    },
    {
     "name": "stderr",
     "output_type": "stream",
     "text": [
      "\n",
      "UPGRADE AVAILABLE\n",
      "\n",
      "A more recent version of the Synapse Client (2.4.0) is available. Your version (2.3.1) can be upgraded by typing:\n",
      "    pip install --upgrade synapseclient\n",
      "\n",
      "Python Synapse Client version 2.4.0 release notes\n",
      "\n",
      "https://python-docs.synapse.org/build/html/news.html\n",
      "\n"
     ]
    },
    {
     "ename": "SynapseHTTPError",
     "evalue": "404 Client Error: \nEntity syn25994367 is in trash can.",
     "output_type": "error",
     "traceback": [
      "\u001b[0;31m---------------------------------------------------------------------------\u001b[0m",
      "\u001b[0;31mSynapseHTTPError\u001b[0m                          Traceback (most recent call last)",
      "\u001b[0;32m/var/folders/1v/dthsdj4d7k1_5r9ff1vztzm80000gq/T/ipykernel_13460/2555570434.py\u001b[0m in \u001b[0;36m<module>\u001b[0;34m\u001b[0m\n\u001b[1;32m      1\u001b[0m \u001b[0;31m# test the upload of a valid manifest file\u001b[0m\u001b[0;34m\u001b[0m\u001b[0;34m\u001b[0m\u001b[0;34m\u001b[0m\u001b[0m\n\u001b[0;32m----> 2\u001b[0;31m success = metadata_model.submit_metadata_manifest(\n\u001b[0m\u001b[1;32m      3\u001b[0m     \u001b[0mmanifest_path\u001b[0m\u001b[0;34m=\u001b[0m\u001b[0;34m\"files/valid_patient_manifest.csv\"\u001b[0m\u001b[0;34m,\u001b[0m\u001b[0;34m\u001b[0m\u001b[0;34m\u001b[0m\u001b[0m\n\u001b[1;32m      4\u001b[0m     \u001b[0mdataset_id\u001b[0m\u001b[0;34m=\u001b[0m\u001b[0;34m\"syn25995579\"\u001b[0m\u001b[0;34m,\u001b[0m\u001b[0;34m\u001b[0m\u001b[0;34m\u001b[0m\u001b[0m\n\u001b[1;32m      5\u001b[0m     \u001b[0mvalidate_component\u001b[0m\u001b[0;34m=\u001b[0m\u001b[0;34m\"Patient\"\u001b[0m\u001b[0;34m,\u001b[0m\u001b[0;34m\u001b[0m\u001b[0;34m\u001b[0m\u001b[0m\n",
      "\u001b[0;32m~/Desktop/schematic/.venv/lib/python3.8/site-packages/schematic/models/metadata.py\u001b[0m in \u001b[0;36msubmit_metadata_manifest\u001b[0;34m(self, manifest_path, dataset_id, validate_component)\u001b[0m\n\u001b[1;32m    347\u001b[0m \u001b[0;34m\u001b[0m\u001b[0m\n\u001b[1;32m    348\u001b[0m                 \u001b[0;31m# upload manifest file from `manifest_path` path to entity with Syn ID `dataset_id`\u001b[0m\u001b[0;34m\u001b[0m\u001b[0;34m\u001b[0m\u001b[0;34m\u001b[0m\u001b[0m\n\u001b[0;32m--> 349\u001b[0;31m                 syn_store.associateMetadataWithFiles(\n\u001b[0m\u001b[1;32m    350\u001b[0m                     \u001b[0mmetadataManifestPath\u001b[0m\u001b[0;34m=\u001b[0m\u001b[0mmanifest_path\u001b[0m\u001b[0;34m,\u001b[0m \u001b[0mdatasetId\u001b[0m\u001b[0;34m=\u001b[0m\u001b[0mdataset_id\u001b[0m\u001b[0;34m\u001b[0m\u001b[0;34m\u001b[0m\u001b[0m\n\u001b[1;32m    351\u001b[0m                 )\n",
      "\u001b[0;32m~/Desktop/schematic/.venv/lib/python3.8/site-packages/schematic/store/synapse.py\u001b[0m in \u001b[0;36massociateMetadataWithFiles\u001b[0;34m(self, metadataManifestPath, datasetId, useSchemaLabel)\u001b[0m\n\u001b[1;32m    527\u001b[0m \u001b[0;34m\u001b[0m\u001b[0m\n\u001b[1;32m    528\u001b[0m             \u001b[0;31m# set annotation(s) for the various objects/items in a dataset on Synapse\u001b[0m\u001b[0;34m\u001b[0m\u001b[0;34m\u001b[0m\u001b[0;34m\u001b[0m\u001b[0m\n\u001b[0;32m--> 529\u001b[0;31m             \u001b[0mannos\u001b[0m \u001b[0;34m=\u001b[0m \u001b[0mself\u001b[0m\u001b[0;34m.\u001b[0m\u001b[0msyn\u001b[0m\u001b[0;34m.\u001b[0m\u001b[0mget_annotations\u001b[0m\u001b[0;34m(\u001b[0m\u001b[0mentityId\u001b[0m\u001b[0;34m)\u001b[0m\u001b[0;34m\u001b[0m\u001b[0;34m\u001b[0m\u001b[0m\n\u001b[0m\u001b[1;32m    530\u001b[0m \u001b[0;34m\u001b[0m\u001b[0m\n\u001b[1;32m    531\u001b[0m             \u001b[0;32mfor\u001b[0m \u001b[0manno_k\u001b[0m\u001b[0;34m,\u001b[0m \u001b[0manno_v\u001b[0m \u001b[0;32min\u001b[0m \u001b[0mmetadataSyn\u001b[0m\u001b[0;34m.\u001b[0m\u001b[0mitems\u001b[0m\u001b[0;34m(\u001b[0m\u001b[0;34m)\u001b[0m\u001b[0;34m:\u001b[0m\u001b[0;34m\u001b[0m\u001b[0;34m\u001b[0m\u001b[0m\n",
      "\u001b[0;32m~/Desktop/schematic/.venv/lib/python3.8/site-packages/synapseclient/client.py\u001b[0m in \u001b[0;36mget_annotations\u001b[0;34m(self, entity, version)\u001b[0m\n\u001b[1;32m   1377\u001b[0m         \u001b[0;34m:\u001b[0m\u001b[0mrtype\u001b[0m\u001b[0;34m:\u001b[0m \u001b[0;34m:\u001b[0m\u001b[0mpy\u001b[0m\u001b[0;34m:\u001b[0m\u001b[0;32mclass\u001b[0m\u001b[0;34m:\u001b[0m\u001b[0;31m`\u001b[0m\u001b[0msynapseclient\u001b[0m\u001b[0;34m.\u001b[0m\u001b[0mannotations\u001b[0m\u001b[0;34m.\u001b[0m\u001b[0mAnnotations\u001b[0m\u001b[0;31m`\u001b[0m\u001b[0;34m\u001b[0m\u001b[0;34m\u001b[0m\u001b[0m\n\u001b[1;32m   1378\u001b[0m         \"\"\"\n\u001b[0;32m-> 1379\u001b[0;31m         \u001b[0;32mreturn\u001b[0m \u001b[0mfrom_synapse_annotations\u001b[0m\u001b[0;34m(\u001b[0m\u001b[0mself\u001b[0m\u001b[0;34m.\u001b[0m\u001b[0m_getRawAnnotations\u001b[0m\u001b[0;34m(\u001b[0m\u001b[0mentity\u001b[0m\u001b[0;34m,\u001b[0m \u001b[0mversion\u001b[0m\u001b[0;34m)\u001b[0m\u001b[0;34m)\u001b[0m\u001b[0;34m\u001b[0m\u001b[0;34m\u001b[0m\u001b[0m\n\u001b[0m\u001b[1;32m   1380\u001b[0m \u001b[0;34m\u001b[0m\u001b[0m\n\u001b[1;32m   1381\u001b[0m     @deprecated.sphinx.deprecated(version='2.1.0', reason='deprecated and replaced with :py:meth:`set_annotations` '\n",
      "\u001b[0;32m~/Desktop/schematic/.venv/lib/python3.8/site-packages/synapseclient/client.py\u001b[0m in \u001b[0;36m_getRawAnnotations\u001b[0;34m(self, entity, version)\u001b[0m\n\u001b[1;32m   1357\u001b[0m         \u001b[0;32melse\u001b[0m\u001b[0;34m:\u001b[0m\u001b[0;34m\u001b[0m\u001b[0;34m\u001b[0m\u001b[0m\n\u001b[1;32m   1358\u001b[0m             \u001b[0muri\u001b[0m \u001b[0;34m=\u001b[0m \u001b[0;34mf'/entity/{id_of(entity)}/annotations2'\u001b[0m\u001b[0;34m\u001b[0m\u001b[0;34m\u001b[0m\u001b[0m\n\u001b[0;32m-> 1359\u001b[0;31m         \u001b[0;32mreturn\u001b[0m \u001b[0mself\u001b[0m\u001b[0;34m.\u001b[0m\u001b[0mrestGET\u001b[0m\u001b[0;34m(\u001b[0m\u001b[0muri\u001b[0m\u001b[0;34m)\u001b[0m\u001b[0;34m\u001b[0m\u001b[0;34m\u001b[0m\u001b[0m\n\u001b[0m\u001b[1;32m   1360\u001b[0m \u001b[0;34m\u001b[0m\u001b[0m\n\u001b[1;32m   1361\u001b[0m     \u001b[0;34m@\u001b[0m\u001b[0mdeprecated\u001b[0m\u001b[0;34m.\u001b[0m\u001b[0msphinx\u001b[0m\u001b[0;34m.\u001b[0m\u001b[0mdeprecated\u001b[0m\u001b[0;34m(\u001b[0m\u001b[0mversion\u001b[0m\u001b[0;34m=\u001b[0m\u001b[0;34m'2.1.0'\u001b[0m\u001b[0;34m,\u001b[0m \u001b[0mreason\u001b[0m\u001b[0;34m=\u001b[0m\u001b[0;34m'deprecated and replaced with :py:meth:`get_annotations`'\u001b[0m\u001b[0;34m)\u001b[0m\u001b[0;34m\u001b[0m\u001b[0;34m\u001b[0m\u001b[0m\n",
      "\u001b[0;32m~/Desktop/schematic/.venv/lib/python3.8/site-packages/synapseclient/client.py\u001b[0m in \u001b[0;36mrestGET\u001b[0;34m(self, uri, endpoint, headers, retryPolicy, requests_session, **kwargs)\u001b[0m\n\u001b[1;32m   3855\u001b[0m         \u001b[0;34m:\u001b[0m\u001b[0mreturns\u001b[0m\u001b[0;34m:\u001b[0m \u001b[0mJSON\u001b[0m \u001b[0mencoding\u001b[0m \u001b[0mof\u001b[0m \u001b[0mresponse\u001b[0m\u001b[0;34m\u001b[0m\u001b[0;34m\u001b[0m\u001b[0m\n\u001b[1;32m   3856\u001b[0m         \"\"\"\n\u001b[0;32m-> 3857\u001b[0;31m         \u001b[0mresponse\u001b[0m \u001b[0;34m=\u001b[0m \u001b[0mself\u001b[0m\u001b[0;34m.\u001b[0m\u001b[0m_rest_call\u001b[0m\u001b[0;34m(\u001b[0m\u001b[0;34m'get'\u001b[0m\u001b[0;34m,\u001b[0m \u001b[0muri\u001b[0m\u001b[0;34m,\u001b[0m \u001b[0;32mNone\u001b[0m\u001b[0;34m,\u001b[0m \u001b[0mendpoint\u001b[0m\u001b[0;34m,\u001b[0m \u001b[0mheaders\u001b[0m\u001b[0;34m,\u001b[0m \u001b[0mretryPolicy\u001b[0m\u001b[0;34m,\u001b[0m \u001b[0mrequests_session\u001b[0m\u001b[0;34m,\u001b[0m \u001b[0;34m**\u001b[0m\u001b[0mkwargs\u001b[0m\u001b[0;34m)\u001b[0m\u001b[0;34m\u001b[0m\u001b[0;34m\u001b[0m\u001b[0m\n\u001b[0m\u001b[1;32m   3858\u001b[0m         \u001b[0;32mreturn\u001b[0m \u001b[0mself\u001b[0m\u001b[0;34m.\u001b[0m\u001b[0m_return_rest_body\u001b[0m\u001b[0;34m(\u001b[0m\u001b[0mresponse\u001b[0m\u001b[0;34m)\u001b[0m\u001b[0;34m\u001b[0m\u001b[0;34m\u001b[0m\u001b[0m\n\u001b[1;32m   3859\u001b[0m \u001b[0;34m\u001b[0m\u001b[0m\n",
      "\u001b[0;32m~/Desktop/schematic/.venv/lib/python3.8/site-packages/synapseclient/client.py\u001b[0m in \u001b[0;36m_rest_call\u001b[0;34m(self, method, uri, data, endpoint, headers, retryPolicy, requests_session, **kwargs)\u001b[0m\n\u001b[1;32m   3839\u001b[0m             \u001b[0mverbose\u001b[0m\u001b[0;34m=\u001b[0m\u001b[0mself\u001b[0m\u001b[0;34m.\u001b[0m\u001b[0mdebug\u001b[0m\u001b[0;34m,\u001b[0m \u001b[0;34m**\u001b[0m\u001b[0mretryPolicy\u001b[0m\u001b[0;34m\u001b[0m\u001b[0;34m\u001b[0m\u001b[0m\n\u001b[1;32m   3840\u001b[0m         )\n\u001b[0;32m-> 3841\u001b[0;31m         \u001b[0mself\u001b[0m\u001b[0;34m.\u001b[0m\u001b[0m_handle_synapse_http_error\u001b[0m\u001b[0;34m(\u001b[0m\u001b[0mresponse\u001b[0m\u001b[0;34m)\u001b[0m\u001b[0;34m\u001b[0m\u001b[0;34m\u001b[0m\u001b[0m\n\u001b[0m\u001b[1;32m   3842\u001b[0m         \u001b[0;32mreturn\u001b[0m \u001b[0mresponse\u001b[0m\u001b[0;34m\u001b[0m\u001b[0;34m\u001b[0m\u001b[0m\n\u001b[1;32m   3843\u001b[0m \u001b[0;34m\u001b[0m\u001b[0m\n",
      "\u001b[0;32m~/Desktop/schematic/.venv/lib/python3.8/site-packages/synapseclient/client.py\u001b[0m in \u001b[0;36m_handle_synapse_http_error\u001b[0;34m(self, response)\u001b[0m\n\u001b[1;32m   3809\u001b[0m \u001b[0;34m\u001b[0m\u001b[0m\n\u001b[1;32m   3810\u001b[0m         \u001b[0;32mtry\u001b[0m\u001b[0;34m:\u001b[0m\u001b[0;34m\u001b[0m\u001b[0;34m\u001b[0m\u001b[0m\n\u001b[0;32m-> 3811\u001b[0;31m             \u001b[0mexceptions\u001b[0m\u001b[0;34m.\u001b[0m\u001b[0m_raise_for_status\u001b[0m\u001b[0;34m(\u001b[0m\u001b[0mresponse\u001b[0m\u001b[0;34m,\u001b[0m \u001b[0mverbose\u001b[0m\u001b[0;34m=\u001b[0m\u001b[0mself\u001b[0m\u001b[0;34m.\u001b[0m\u001b[0mdebug\u001b[0m\u001b[0;34m)\u001b[0m\u001b[0;34m\u001b[0m\u001b[0;34m\u001b[0m\u001b[0m\n\u001b[0m\u001b[1;32m   3812\u001b[0m         \u001b[0;32mexcept\u001b[0m \u001b[0mexceptions\u001b[0m\u001b[0;34m.\u001b[0m\u001b[0mSynapseHTTPError\u001b[0m \u001b[0;32mas\u001b[0m \u001b[0mex\u001b[0m\u001b[0;34m:\u001b[0m\u001b[0;34m\u001b[0m\u001b[0;34m\u001b[0m\u001b[0m\n\u001b[1;32m   3813\u001b[0m             \u001b[0;31m# if we get a unauthenticated or forbidden error and the user is not logged in\u001b[0m\u001b[0;34m\u001b[0m\u001b[0;34m\u001b[0m\u001b[0;34m\u001b[0m\u001b[0m\n",
      "\u001b[0;32m~/Desktop/schematic/.venv/lib/python3.8/site-packages/synapseclient/core/exceptions.py\u001b[0m in \u001b[0;36m_raise_for_status\u001b[0;34m(response, verbose)\u001b[0m\n\u001b[1;32m    158\u001b[0m                 \u001b[0mmessage\u001b[0m \u001b[0;34m+=\u001b[0m \u001b[0;34m\"\\nCould not append all response info\"\u001b[0m\u001b[0;34m\u001b[0m\u001b[0;34m\u001b[0m\u001b[0m\n\u001b[1;32m    159\u001b[0m \u001b[0;34m\u001b[0m\u001b[0m\n\u001b[0;32m--> 160\u001b[0;31m         \u001b[0;32mraise\u001b[0m \u001b[0mSynapseHTTPError\u001b[0m\u001b[0;34m(\u001b[0m\u001b[0mmessage\u001b[0m\u001b[0;34m,\u001b[0m \u001b[0mresponse\u001b[0m\u001b[0;34m=\u001b[0m\u001b[0mresponse\u001b[0m\u001b[0;34m)\u001b[0m\u001b[0;34m\u001b[0m\u001b[0;34m\u001b[0m\u001b[0m\n\u001b[0m",
      "\u001b[0;31mSynapseHTTPError\u001b[0m: 404 Client Error: \nEntity syn25994367 is in trash can."
     ]
    }
   ],
   "source": [
    "# test the upload of a valid manifest file\n",
    "success = metadata_model.submit_metadata_manifest(\n",
    "    manifest_path=\"files/valid_patient_manifest.csv\",\n",
    "    dataset_id=\"syn25995579\",\n",
    "    validate_component=\"Patient\",\n",
    ")\n",
    "\n",
    "# returns True if the upload is successful\n",
    "print(success)"
   ]
  },
  {
   "cell_type": "markdown",
   "id": "8d8516c5",
   "metadata": {},
   "source": [
    "### Case 2"
   ]
  },
  {
   "cell_type": "code",
   "execution_count": null,
   "id": "5cb5a6eb",
   "metadata": {},
   "outputs": [],
   "source": [
    "# test the upload of an invalid manifest file\n",
    "error = metadata_model.submit_metadata_manifest(\n",
    "    manifest_path=\"files/invalid_patient_manifest.csv\",\n",
    "    dataset_id=\"syn25994296\",\n",
    "    validate_component=\"Patient\",\n",
    ")\n",
    "\n",
    "# the program will raise an appropriate Exception\n",
    "print(error)"
   ]
  }
 ],
 "metadata": {
  "kernelspec": {
   "display_name": "Python 3 (ipykernel)",
   "language": "python",
   "name": "python3"
  },
  "language_info": {
   "codemirror_mode": {
    "name": "ipython",
    "version": 3
   },
   "file_extension": ".py",
   "mimetype": "text/x-python",
   "name": "python",
   "nbconvert_exporter": "python",
   "pygments_lexer": "ipython3",
   "version": "3.8.2"
  }
 },
 "nbformat": 4,
 "nbformat_minor": 5
}
