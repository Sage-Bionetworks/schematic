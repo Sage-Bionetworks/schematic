{
 "cells": [
  {
   "cell_type": "markdown",
   "id": "ef2407a3",
   "metadata": {},
   "source": [
    "#### 1. Set SCHEMATIC_CONFIG environment variable to point to config.yml"
   ]
  },
  {
   "cell_type": "code",
   "execution_count": 1,
   "id": "f83b4039",
   "metadata": {},
   "outputs": [
    {
     "name": "stdout",
     "output_type": "stream",
     "text": [
      "env: SCHEMATIC_CONFIG=/Users/spatil/Desktop/schematic/config.yml\n"
     ]
    }
   ],
   "source": [
    "%env SCHEMATIC_CONFIG=/Users/spatil/Desktop/schematic/config.yml"
   ]
  },
  {
   "cell_type": "code",
   "execution_count": 2,
   "id": "f41f42b2",
   "metadata": {},
   "outputs": [
    {
     "name": "stdout",
     "output_type": "stream",
     "text": [
      "/Users/spatil/Desktop/schematic/config.yml\n"
     ]
    }
   ],
   "source": [
    "import os\n",
    "\n",
    "# check if `SCHEMATIC_CONFIG` variable has been set to correct path\n",
    "print(os.environ['SCHEMATIC_CONFIG'])"
   ]
  },
  {
   "cell_type": "markdown",
   "id": "15d1638c",
   "metadata": {},
   "source": [
    "#### 2. Call `validateModelManifest()` method from `MetadataModel` class to validate manifest"
   ]
  },
  {
   "cell_type": "code",
   "execution_count": 3,
   "id": "eb759f36",
   "metadata": {},
   "outputs": [
    {
     "name": "stdout",
     "output_type": "stream",
     "text": [
      "Loading config YAML file specified in 'SCHEMATIC_CONFIG' environment variable: /Users/spatil/Desktop/schematic/config.yml\n",
      "[]\n"
     ]
    }
   ],
   "source": [
    "# MetadataModel class contains validateModelManifest() method\n",
    "from schematic.models.metadata import MetadataModel\n",
    "\n",
    "# initialize object of MetadataModel class\n",
    "metadata_model = MetadataModel(\n",
    "    inputMModelLocation=\"../tests/data/example.model.jsonld\", \n",
    "    inputMModelLocationType=\"local\"\n",
    ")\n",
    "\n",
    "# provide valid manifest file path\n",
    "errors = metadata_model.validateModelManifest(\n",
    "    manifestPath=\"files/valid_patient_manifest.csv\", rootNode=\"Patient\"\n",
    ")\n",
    "\n",
    "# empty list since we're validating a valid manifest\n",
    "print(errors)"
   ]
  },
  {
   "cell_type": "code",
   "execution_count": 4,
   "id": "e230dfd0",
   "metadata": {},
   "outputs": [
    {
     "name": "stderr",
     "output_type": "stream",
     "text": [
      "ERROR: [2021-07-19 13:10:27] root - The 'Component' column value(s) [''] do not match the selected template type 'Patient'.\n"
     ]
    },
    {
     "name": "stdout",
     "output_type": "stream",
     "text": [
      "[[2, 'Component', \"Component value provided is: '', whereas the Template Type is: 'Patient'\", ('', 'Patient')]]\n"
     ]
    }
   ],
   "source": [
    "# provide invalid manifest file path\n",
    "errors = metadata_model.validateModelManifest(\n",
    "    manifestPath=\"files/invalid_patient_manifest.csv\", rootNode=\"Patient\"\n",
    ")\n",
    "\n",
    "# list pointing out what errors exist in the provided manifest\n",
    "print(errors)"
   ]
  }
 ],
 "metadata": {
  "kernelspec": {
   "display_name": ".venv",
   "language": "python",
   "name": ".venv"
  },
  "language_info": {
   "codemirror_mode": {
    "name": "ipython",
    "version": 3
   },
   "file_extension": ".py",
   "mimetype": "text/x-python",
   "name": "python",
   "nbconvert_exporter": "python",
   "pygments_lexer": "ipython3",
   "version": "3.8.2"
  }
 },
 "nbformat": 4,
 "nbformat_minor": 5
}
